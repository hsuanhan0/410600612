{
  "nbformat": 4,
  "nbformat_minor": 0,
  "metadata": {
    "colab": {
      "name": "0509.ipynb",
      "provenance": [],
      "authorship_tag": "ABX9TyP+FuAgunC9gq4HIwJmzeAX",
      "include_colab_link": true
    },
    "kernelspec": {
      "name": "python3",
      "display_name": "Python 3"
    },
    "language_info": {
      "name": "python"
    }
  },
  "cells": [
    {
      "cell_type": "markdown",
      "metadata": {
        "id": "view-in-github",
        "colab_type": "text"
      },
      "source": [
        "<a href=\"https://colab.research.google.com/github/hsuanhan0/Introduction-to-Computers/blob/main/0509.ipynb\" target=\"_parent\"><img src=\"https://colab.research.google.com/assets/colab-badge.svg\" alt=\"Open In Colab\"/></a>"
      ]
    },
    {
      "cell_type": "code",
      "execution_count": 1,
      "metadata": {
        "colab": {
          "base_uri": "https://localhost:8080/"
        },
        "id": "vow3QnrN3FqH",
        "outputId": "f4d64bf5-9762-44bf-d072-d8923c1003fa"
      },
      "outputs": [
        {
          "output_type": "stream",
          "name": "stdout",
          "text": [
            "123\n"
          ]
        }
      ],
      "source": [
        "print('123')"
      ]
    },
    {
      "cell_type": "code",
      "source": [
        "temp=float(input(\"請輸入體溫\"))\n",
        "if temp >= 37.5:\n",
        "  print(\"體溫過高\")\n",
        "elif temp >=37 and temp <37.5:\n",
        "  print(\"體溫略高\")  \n",
        "elif temp>=34 and temp <37:\n",
        "  print(\"體溫正常\")  \n",
        "else:\n",
        "  print(\"體溫異常，請重新量測\")  "
      ],
      "metadata": {
        "colab": {
          "base_uri": "https://localhost:8080/"
        },
        "id": "om8IGurs8MSU",
        "outputId": "7106c9c4-186f-4093-a062-2c6f094207f8"
      },
      "execution_count": 9,
      "outputs": [
        {
          "output_type": "stream",
          "name": "stdout",
          "text": [
            "請輸入體溫37\n",
            "體溫略高\n"
          ]
        }
      ]
    },
    {
      "cell_type": "code",
      "source": [
        "score=int(input(\"請輸入成績:\"))\n",
        "if score>=90:\n",
        "  print(\"A\")\n",
        "elif 80<=score and score<90:\n",
        "  print(\"B\")\n",
        "elif 70<=score and score<80:\n",
        "  print(\"C\")\n",
        "elif 60<=score and score<70:\n",
        "  print(\"D\")\n",
        "else:\n",
        "  print(\"E\")      \n"
      ],
      "metadata": {
        "colab": {
          "base_uri": "https://localhost:8080/"
        },
        "id": "stK_XAGG_tx1",
        "outputId": "9c9ff542-2d5b-40ff-f354-65969acb9817"
      },
      "execution_count": 12,
      "outputs": [
        {
          "output_type": "stream",
          "name": "stdout",
          "text": [
            "請輸入成績:52\n",
            "E\n"
          ]
        }
      ]
    },
    {
      "cell_type": "code",
      "source": [
        "money=int(input(\"請輸入購物金額\"))\n",
        "if(money>=10000):\n",
        "  if(money>=100000):\n",
        "    print(\"八折\",money*0.8,\"元\")\n",
        "  elif money>=50000:\n",
        "    print(\"八五折\",money*0.85,\"元\")\n",
        "  elif money>=30000:\n",
        "    print(\"九折\",money*0.9,\"元\")\n",
        "  else:\n",
        "    print(\"九五折\",money*0.95,\"元\")\n",
        "else:\n",
        "  print(\"沒打折\") "
      ],
      "metadata": {
        "colab": {
          "base_uri": "https://localhost:8080/"
        },
        "id": "Ck1wMHI4Ex_T",
        "outputId": "b28a15c5-be85-4d85-8e76-aef801ce6f99"
      },
      "execution_count": 22,
      "outputs": [
        {
          "output_type": "stream",
          "name": "stdout",
          "text": [
            "請輸入購物金額30000\n",
            "九折 27000.0 元\n"
          ]
        }
      ]
    },
    {
      "cell_type": "code",
      "source": [
        "month=int(input(\"請輸入月份:\"))\n",
        "if month<1 or month>12 :\n",
        "  print(\"月份不在範圍內!\")\n",
        "elif 3<=month and month<=5:\n",
        "  print(month,\"月是春天!\")\n",
        "elif 6<=month and month<=8:\n",
        "  print(month,\"月是夏天!\")  \n",
        "elif 9<=month and month<=11:\n",
        "  print(month,\"月是秋天!\")\n",
        "else:\n",
        "  print(month,\"月是冬天!\")"
      ],
      "metadata": {
        "colab": {
          "base_uri": "https://localhost:8080/"
        },
        "id": "uvEsPXdIH0wB",
        "outputId": "690b6c36-3a63-45d6-de3e-2cbc647e343f"
      },
      "execution_count": 21,
      "outputs": [
        {
          "output_type": "stream",
          "name": "stdout",
          "text": [
            "請輸入月份:12\n",
            "12 月是冬天!\n"
          ]
        }
      ]
    },
    {
      "cell_type": "code",
      "source": [
        "net_sale=float(input(\"請輸入今年收入淨額:\"))\n",
        "if net_sale>=300000:\n",
        "  if net_sale>=2000000:\n",
        "   print(\"賦稅金額:%0.1f元\"%(net_sale*0.3))\n",
        "  elif net_sale>=1000000:\n",
        "   print(\"賦稅金額:%0.1f元\"%(net_sale*0.21))\n",
        "  elif net_sale>=600000:\n",
        "   print(\"賦稅金額:%0.1f元\"%(net_sale*0.13))\n",
        "  else:\n",
        "   print(\"賦稅金額:%0.1f元\"%(net_sale*0.06))\n",
        "else:\n",
        "   print(\"賦稅金額0元\")  \n",
        " \n",
        " \n"
      ],
      "metadata": {
        "colab": {
          "base_uri": "https://localhost:8080/"
        },
        "id": "LDXNhd5VUL5u",
        "outputId": "04b4bb2a-6147-498b-8a63-361314a0cafc"
      },
      "execution_count": 27,
      "outputs": [
        {
          "output_type": "stream",
          "name": "stdout",
          "text": [
            "請輸入今年收入淨額:1000000\n",
            "賦稅金額:210000.0元\n"
          ]
        }
      ]
    }
  ]
}