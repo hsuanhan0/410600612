{
  "nbformat": 4,
  "nbformat_minor": 0,
  "metadata": {
    "colab": {
      "name": "0523ipynb",
      "provenance": [],
      "authorship_tag": "ABX9TyO5yOAjUH/TnsSYtTTqjVZR",
      "include_colab_link": true
    },
    "kernelspec": {
      "name": "python3",
      "display_name": "Python 3"
    },
    "language_info": {
      "name": "python"
    }
  },
  "cells": [
    {
      "cell_type": "markdown",
      "metadata": {
        "id": "view-in-github",
        "colab_type": "text"
      },
      "source": [
        "<a href=\"https://colab.research.google.com/github/hsuanhan0/Introduction-to-Computers/blob/main/0523ipynb.ipynb\" target=\"_parent\"><img src=\"https://colab.research.google.com/assets/colab-badge.svg\" alt=\"Open In Colab\"/></a>"
      ]
    },
    {
      "cell_type": "code",
      "source": [
        "sum=0\n",
        "test=int(input(\"請輸入一個正整數:\"))\n",
        "for n in range (1,test+1):\n",
        "  sum=sum+n\n",
        "print(f\"1到{test}的整數和為{sum}\")  "
      ],
      "metadata": {
        "colab": {
          "base_uri": "https://localhost:8080/"
        },
        "id": "Efwha6MD-vwc",
        "outputId": "54c2b247-8849-464e-8630-74f8a9fc3938"
      },
      "execution_count": 3,
      "outputs": [
        {
          "output_type": "stream",
          "name": "stdout",
          "text": [
            "請輸入一個正整數:2\n",
            "1到2的整數和為3\n"
          ]
        }
      ]
    },
    {
      "cell_type": "code",
      "source": [
        "sum=0\n",
        "test=int(input(\"請輸入一個正整數:\"))\n",
        "for m in range (1,test+1):\n",
        "  sum=sum+m\n",
        "  print(f\"1到{m}的整數和為{sum}\")"
      ],
      "metadata": {
        "colab": {
          "base_uri": "https://localhost:8080/"
        },
        "id": "Mj2fKiypACnE",
        "outputId": "4eb1fb8d-f91d-41ab-bb7c-53748231bef6"
      },
      "execution_count": 5,
      "outputs": [
        {
          "output_type": "stream",
          "name": "stdout",
          "text": [
            "請輸入一個正整數:50\n",
            "1到1的整數和為1\n",
            "1到2的整數和為3\n",
            "1到3的整數和為6\n",
            "1到4的整數和為10\n",
            "1到5的整數和為15\n",
            "1到6的整數和為21\n",
            "1到7的整數和為28\n",
            "1到8的整數和為36\n",
            "1到9的整數和為45\n",
            "1到10的整數和為55\n",
            "1到11的整數和為66\n",
            "1到12的整數和為78\n",
            "1到13的整數和為91\n",
            "1到14的整數和為105\n",
            "1到15的整數和為120\n",
            "1到16的整數和為136\n",
            "1到17的整數和為153\n",
            "1到18的整數和為171\n",
            "1到19的整數和為190\n",
            "1到20的整數和為210\n",
            "1到21的整數和為231\n",
            "1到22的整數和為253\n",
            "1到23的整數和為276\n",
            "1到24的整數和為300\n",
            "1到25的整數和為325\n",
            "1到26的整數和為351\n",
            "1到27的整數和為378\n",
            "1到28的整數和為406\n",
            "1到29的整數和為435\n",
            "1到30的整數和為465\n",
            "1到31的整數和為496\n",
            "1到32的整數和為528\n",
            "1到33的整數和為561\n",
            "1到34的整數和為595\n",
            "1到35的整數和為630\n",
            "1到36的整數和為666\n",
            "1到37的整數和為703\n",
            "1到38的整數和為741\n",
            "1到39的整數和為780\n",
            "1到40的整數和為820\n",
            "1到41的整數和為861\n",
            "1到42的整數和為903\n",
            "1到43的整數和為946\n",
            "1到44的整數和為990\n",
            "1到45的整數和為1035\n",
            "1到46的整數和為1081\n",
            "1到47的整數和為1128\n",
            "1到48的整數和為1176\n",
            "1到49的整數和為1225\n",
            "1到50的整數和為1275\n"
          ]
        }
      ]
    },
    {
      "cell_type": "code",
      "source": [
        "for j in range(1,6):\n",
        "  print(j)\n",
        "  for i  in range(1,3):\n",
        "    k=i*j\n",
        "    print(f\"{j}*{i}={k}\")"
      ],
      "metadata": {
        "colab": {
          "base_uri": "https://localhost:8080/"
        },
        "id": "sAeGF9pQCJwP",
        "outputId": "f117e4f6-0e98-427a-9834-8f884a1d5b0c"
      },
      "execution_count": 13,
      "outputs": [
        {
          "output_type": "stream",
          "name": "stdout",
          "text": [
            "1\n",
            "1*1=1\n",
            "1*2=2\n",
            "2\n",
            "2*1=2\n",
            "2*2=4\n",
            "3\n",
            "3*1=3\n",
            "3*2=6\n",
            "4\n",
            "4*1=4\n",
            "4*2=8\n",
            "5\n",
            "5*1=5\n",
            "5*2=10\n"
          ]
        }
      ]
    },
    {
      "cell_type": "code",
      "source": [
        "for h in range(1,6):\n",
        "  print(h)\n",
        "  for s in range(1,3):\n",
        "    print(f\"{h}*{s}={h*s}\")"
      ],
      "metadata": {
        "colab": {
          "base_uri": "https://localhost:8080/"
        },
        "id": "bLNpVJ1nEFXF",
        "outputId": "97204658-4eb2-4e09-ad94-ee3f4cac33ee"
      },
      "execution_count": 16,
      "outputs": [
        {
          "output_type": "stream",
          "name": "stdout",
          "text": [
            "1\n",
            "1*1=1\n",
            "1*2=2\n",
            "2\n",
            "2*1=2\n",
            "2*2=4\n",
            "3\n",
            "3*1=3\n",
            "3*2=6\n",
            "4\n",
            "4*1=4\n",
            "4*2=8\n",
            "5\n",
            "5*1=5\n",
            "5*2=10\n"
          ]
        }
      ]
    },
    {
      "cell_type": "code",
      "source": [
        "for i in range (1,6):\n",
        "  if (i==4):\n",
        "    continue\n",
        "  print(i,end=\" \")  "
      ],
      "metadata": {
        "colab": {
          "base_uri": "https://localhost:8080/"
        },
        "id": "DJBUu5VEE1xt",
        "outputId": "7f1cc889-6f62-4ce7-acf3-5cc46a9531fe"
      },
      "execution_count": 19,
      "outputs": [
        {
          "output_type": "stream",
          "name": "stdout",
          "text": [
            "1 2 3 5 "
          ]
        }
      ]
    },
    {
      "cell_type": "code",
      "source": [
        "count=0\n",
        "for string in \"測試看看!\":\n",
        "  count +=1\n",
        "  if string == \"看\":\n",
        "    break\n",
        "  print(string) \n",
        "print(\"迴圈結束!\")\n",
        "print(f\"迴圈執行了{count}次\")   "
      ],
      "metadata": {
        "colab": {
          "base_uri": "https://localhost:8080/"
        },
        "id": "7uCk9Gf9FpCe",
        "outputId": "38870b62-a15e-4362-b9ca-6d4a778d73bd"
      },
      "execution_count": 21,
      "outputs": [
        {
          "output_type": "stream",
          "name": "stdout",
          "text": [
            "測\n",
            "試\n",
            "迴圈結束!\n",
            "迴圈執行了3次\n"
          ]
        }
      ]
    },
    {
      "cell_type": "code",
      "source": [
        "for a in range(1,10):\n",
        "  for b in range(1,10):\n",
        "    print(f\"{b}*{a}={a*b}\",end=\"\\t\")\n",
        "  print()"
      ],
      "metadata": {
        "colab": {
          "base_uri": "https://localhost:8080/"
        },
        "id": "-0l4bFa2GgBB",
        "outputId": "252fd2ae-605e-4491-fc62-802fb3823506"
      },
      "execution_count": 25,
      "outputs": [
        {
          "output_type": "stream",
          "name": "stdout",
          "text": [
            "1*1=1\t2*1=2\t3*1=3\t4*1=4\t5*1=5\t6*1=6\t7*1=7\t8*1=8\t9*1=9\t\n",
            "1*2=2\t2*2=4\t3*2=6\t4*2=8\t5*2=10\t6*2=12\t7*2=14\t8*2=16\t9*2=18\t\n",
            "1*3=3\t2*3=6\t3*3=9\t4*3=12\t5*3=15\t6*3=18\t7*3=21\t8*3=24\t9*3=27\t\n",
            "1*4=4\t2*4=8\t3*4=12\t4*4=16\t5*4=20\t6*4=24\t7*4=28\t8*4=32\t9*4=36\t\n",
            "1*5=5\t2*5=10\t3*5=15\t4*5=20\t5*5=25\t6*5=30\t7*5=35\t8*5=40\t9*5=45\t\n",
            "1*6=6\t2*6=12\t3*6=18\t4*6=24\t5*6=30\t6*6=36\t7*6=42\t8*6=48\t9*6=54\t\n",
            "1*7=7\t2*7=14\t3*7=21\t4*7=28\t5*7=35\t6*7=42\t7*7=49\t8*7=56\t9*7=63\t\n",
            "1*8=8\t2*8=16\t3*8=24\t4*8=32\t5*8=40\t6*8=48\t7*8=56\t8*8=64\t9*8=72\t\n",
            "1*9=9\t2*9=18\t3*9=27\t4*9=36\t5*9=45\t6*9=54\t7*9=63\t8*9=72\t9*9=81\t\n"
          ]
        }
      ]
    },
    {
      "cell_type": "code",
      "source": [
        "a=int(input(\"請輸入a的值:\"))\n",
        "b=int(input(\"請輸入b的值:\"))\n",
        "m=1\n",
        "for m in range(a,0,-1):\n",
        "  if a % m ==0 and b % m==0:\n",
        "    break\n",
        "print(f\"{a}和{b}的最小公倍數為{a*b/m:.0f}\")"
      ],
      "metadata": {
        "colab": {
          "base_uri": "https://localhost:8080/"
        },
        "id": "9SWjkI5mH4_Z",
        "outputId": "44ea6352-f233-4977-814c-ef19486507b0"
      },
      "execution_count": 28,
      "outputs": [
        {
          "output_type": "stream",
          "name": "stdout",
          "text": [
            "請輸入a的值:4\n",
            "請輸入b的值:6\n",
            "4和6的最小公倍數為12\n"
          ]
        }
      ]
    },
    {
      "cell_type": "code",
      "source": [
        "num=int(input(\"請輸入正整數:\"))\n",
        "for n in range(1,num+1):\n",
        "  if n % 5 ==0:\n",
        "    continue\n",
        "  print(n)    "
      ],
      "metadata": {
        "colab": {
          "base_uri": "https://localhost:8080/"
        },
        "id": "G8Kg0SVUIrcG",
        "outputId": "31efa173-b16e-4044-bbf5-ca214673ebb9"
      },
      "execution_count": 31,
      "outputs": [
        {
          "output_type": "stream",
          "name": "stdout",
          "text": [
            "請輸入正整數:21\n",
            "1\n",
            "2\n",
            "3\n",
            "4\n",
            "6\n",
            "7\n",
            "8\n",
            "9\n",
            "11\n",
            "12\n",
            "13\n",
            "14\n",
            "16\n",
            "17\n",
            "18\n",
            "19\n",
            "21\n"
          ]
        }
      ]
    }
  ]
}