{
  "nbformat": 4,
  "nbformat_minor": 0,
  "metadata": {
    "colab": {
      "name": "0516ipynb",
      "provenance": [],
      "authorship_tag": "ABX9TyNcpy+3lMOgJym9tm5HNuTC",
      "include_colab_link": true
    },
    "kernelspec": {
      "name": "python3",
      "display_name": "Python 3"
    },
    "language_info": {
      "name": "python"
    }
  },
  "cells": [
    {
      "cell_type": "markdown",
      "metadata": {
        "id": "view-in-github",
        "colab_type": "text"
      },
      "source": [
        "<a href=\"https://colab.research.google.com/github/hsuanhan0/Introduction-to-Computers/blob/main/0516ipynb.ipynb\" target=\"_parent\"><img src=\"https://colab.research.google.com/assets/colab-badge.svg\" alt=\"Open In Colab\"/></a>"
      ]
    },
    {
      "cell_type": "code",
      "execution_count": 1,
      "metadata": {
        "colab": {
          "base_uri": "https://localhost:8080/"
        },
        "id": "jW7WaywtOzTP",
        "outputId": "34fd82ac-0610-4990-e06f-013bf2e07beb"
      },
      "outputs": [
        {
          "name": "stdout",
          "output_type": "stream",
          "text": [
            "請輸入一個正整數:5\n"
          ]
        },
        {
          "output_type": "execute_result",
          "data": {
            "text/plain": [
              "10"
            ]
          },
          "metadata": {},
          "execution_count": 1
        }
      ],
      "source": [
        "test=int(input(\"請輸入一個正整數:\"))\n",
        "sum(range(test))"
      ]
    },
    {
      "cell_type": "code",
      "source": [
        "test=int(input(\"請輸入一個正整數:\"))\n",
        "print(f\"1到{test}的整數合為{sum(range(test+1))}\")"
      ],
      "metadata": {
        "colab": {
          "base_uri": "https://localhost:8080/"
        },
        "id": "R3LHh7DuTP2-",
        "outputId": "8634ca48-51ab-4141-ce6c-fb97cb4741d8"
      },
      "execution_count": 3,
      "outputs": [
        {
          "output_type": "stream",
          "name": "stdout",
          "text": [
            "請輸入一個正整數:10\n",
            "1到10的整數合為55\n"
          ]
        }
      ]
    },
    {
      "cell_type": "code",
      "source": [
        "test=int(input(\"請輸入一個正整數:\"))\n",
        "print(f\"1到{test}的整數合為{sum(range(test+1))}\")"
      ],
      "metadata": {
        "colab": {
          "base_uri": "https://localhost:8080/"
        },
        "id": "g8uy5e2fZlz3",
        "outputId": "1e4ee6e4-1446-4093-a204-38ee18cc742c"
      },
      "execution_count": 12,
      "outputs": [
        {
          "output_type": "stream",
          "name": "stdout",
          "text": [
            "請輸入一個正整數:50\n",
            "1到50的整數合為1275\n"
          ]
        }
      ]
    },
    {
      "cell_type": "code",
      "source": [
        "test=int(input(\"請輸入一個正整數:\"))\n",
        "for n in range(1,test+1):\n",
        "  print(f\"1到{n}的整數合為:{sum(range(1,n+1))}\")"
      ],
      "metadata": {
        "colab": {
          "base_uri": "https://localhost:8080/"
        },
        "id": "QmwMfZV2Tmpb",
        "outputId": "2e5c3cbf-36c3-490a-f1d1-fad62e97610b"
      },
      "execution_count": 11,
      "outputs": [
        {
          "output_type": "stream",
          "name": "stdout",
          "text": [
            "請輸入一個正整數:10\n",
            "1到1的整數合為:1\n",
            "1到2的整數合為:3\n",
            "1到3的整數合為:6\n",
            "1到4的整數合為:10\n",
            "1到5的整數合為:15\n",
            "1到6的整數合為:21\n",
            "1到7的整數合為:28\n",
            "1到8的整數合為:36\n",
            "1到9的整數合為:45\n",
            "1到10的整數合為:55\n"
          ]
        }
      ]
    }
  ]
}