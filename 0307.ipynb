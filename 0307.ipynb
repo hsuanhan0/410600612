{
  "nbformat": 4,
  "nbformat_minor": 0,
  "metadata": {
    "colab": {
      "name": "0307.ipynb",
      "provenance": [],
      "authorship_tag": "ABX9TyOu2cHBx13rHoQaAa1boRMr",
      "include_colab_link": true
    },
    "kernelspec": {
      "name": "python3",
      "display_name": "Python 3"
    },
    "language_info": {
      "name": "python"
    }
  },
  "cells": [
    {
      "cell_type": "markdown",
      "metadata": {
        "id": "view-in-github",
        "colab_type": "text"
      },
      "source": [
        "<a href=\"https://colab.research.google.com/github/hsuanhan0/410600612/blob/main/0307.ipynb\" target=\"_parent\"><img src=\"https://colab.research.google.com/assets/colab-badge.svg\" alt=\"Open In Colab\"/></a>"
      ]
    },
    {
      "cell_type": "code",
      "execution_count": null,
      "metadata": {
        "id": "DKv61qDuoeeu"
      },
      "outputs": [],
      "source": [
        "print\"hihi\""
      ]
    }
  ]
}